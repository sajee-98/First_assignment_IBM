{
  "cells": [
    {
      "cell_type": "markdown",
      "metadata": {},
      "source": [
        "# Data Science Tools and Ecosystem"
      ]
    },
    {
      "cell_type": "markdown",
      "metadata": {},
      "source": [
        "Data Science is a vast field that involves various tools and ecosystems designed to handle different aspects of data collection, processing, analysis, and visualization. Here's a summary of some of the most prominent tools and ecosystems.\n",
        "\n",
        "Some Examples:\n",
        "\n",
        "### Programming Languages\n",
        "1. **Python**: Widely used for its simplicity and vast array of libraries (e.g., NumPy, pandas, scikit-learn, TensorFlow, Keras).\n",
        "2. **R**: Known for statistical analysis and data visualization capabilities.\n",
        "3. **SQL**: Essential for database management and querying.\n",
        "\n",
        "### Data Collection and Storage\n",
        "1. **SQL Databases**: MySQL.\n",
        "2. **NoSQL Databases**: MongoDB.\n",
        "3. **Data Lakes**: Amazon S3, Google Cloud Storage, Azure Blob Storage.\n",
        "4. **Big Data Platforms**: Apache Hadoop, Apache Spark.\n",
        "\n",
        "### Data Cleaning and Preparation\n",
        "1. **pandas** (Python): For data manipulation and cleaning.\n",
        "2. **dplyr** (R): For data manipulation and transformation.\n",
        "3. **OpenRefine**: For cleaning messy data.\n",
        "\n",
        "\n"
      ]
    },
    {
      "cell_type": "markdown",
      "metadata": {},
      "source": [
        "**Objectives:**\n",
        "- Python\n",
        "- Java\n",
        "- R\n",
        "- Scala\n",
        "- SQL"
      ]
    },
    {
      "cell_type": "markdown",
      "metadata": {},
      "source": [
        "Some of the popular languages that Data Scientists use are:\n",
        "1. Python\n",
        "2. Java\n",
        "3. R\n",
        "4. Scala\n",
        "5. SQL"
      ]
    },
    {
      "cell_type": "markdown",
      "metadata": {},
      "source": [
        "Some of the commonly used libraries used by Data Scientists include:\n",
        "1. Pandas\n",
        "2. Numpy\n",
        "3. scikit-learn\n",
        "4. TensorFlow\n",
        "5. Matplotlib\n",
        "6. ggplot2"
      ]
    },
    {
      "cell_type": "markdown",
      "metadata": {},
      "source": [
        "| Data Science Tools |\n",
        "| ------------------ |\n",
        "| Jupyter Notebook |\n",
        "| RStudio |\n",
        "| PyCharm |"
      ]
    },
    {
      "cell_type": "markdown",
      "metadata": {},
      "source": [
        "### Below are a few examples of evaluating arithmetic expressions in Python\n"
      ]
    },
    {
      "cell_type": "code",
      "execution_count": 1,
      "metadata": {
        "trusted": true
      },
      "outputs": [
        {
          "data": {
            "text/plain": [
              "17"
            ]
          },
          "execution_count": 1,
          "metadata": {},
          "output_type": "execute_result"
        }
      ],
      "source": [
        "## This a simple arithmetic expression to mutiply then add integers\n",
        "(3*4)+5"
      ]
    },
    {
      "cell_type": "code",
      "execution_count": 4,
      "metadata": {
        "trusted": true
      },
      "outputs": [
        {
          "name": "stdout",
          "output_type": "stream",
          "text": [
            "3.3333333333333335 Hours\n"
          ]
        }
      ],
      "source": [
        "##  This will convert 200 minutes to hours by diving by 60\n",
        "a = 200 / 60\n",
        "print(a, \"Hours\")"
      ]
    },
    {
      "cell_type": "markdown",
      "metadata": {},
      "source": [
        "## Author\n",
        "Shjeevan"
      ]
    }
  ],
  "metadata": {
    "kernelspec": {
      "display_name": "Python (Pyodide)",
      "language": "python",
      "name": "python"
    },
    "language_info": {
      "codemirror_mode": {
        "name": "python",
        "version": 3
      },
      "file_extension": ".py",
      "mimetype": "text/x-python",
      "name": "python",
      "nbconvert_exporter": "python",
      "pygments_lexer": "ipython3",
      "version": "3.8"
    }
  },
  "nbformat": 4,
  "nbformat_minor": 4
}
