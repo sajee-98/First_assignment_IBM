{
  "metadata": {
    "kernelspec": {
      "name": "python",
      "display_name": "Python (Pyodide)",
      "language": "python"
    },
    "language_info": {
      "codemirror_mode": {
        "name": "python",
        "version": 3
      },
      "file_extension": ".py",
      "mimetype": "text/x-python",
      "name": "python",
      "nbconvert_exporter": "python",
      "pygments_lexer": "ipython3",
      "version": "3.8"
    }
  },
  "nbformat_minor": 4,
  "nbformat": 4,
  "cells": [
    {
      "cell_type": "markdown",
      "source": "# Data Science Tools and Ecosystem",
      "metadata": {}
    },
    {
      "cell_type": "markdown",
      "source": "Data Science is a vast field that involves various tools and ecosystems designed to handle different aspects of data collection, processing, analysis, and visualization. Here's a summary of some of the most prominent tools and ecosystems.\n\nSome Examples:\n\n### Programming Languages\n1. **Python**: Widely used for its simplicity and vast array of libraries (e.g., NumPy, pandas, scikit-learn, TensorFlow, Keras).\n2. **R**: Known for statistical analysis and data visualization capabilities.\n3. **SQL**: Essential for database management and querying.\n\n### Data Collection and Storage\n1. **SQL Databases**: MySQL.\n2. **NoSQL Databases**: MongoDB.\n3. **Data Lakes**: Amazon S3, Google Cloud Storage, Azure Blob Storage.\n4. **Big Data Platforms**: Apache Hadoop, Apache Spark.\n\n### Data Cleaning and Preparation\n1. **pandas** (Python): For data manipulation and cleaning.\n2. **dplyr** (R): For data manipulation and transformation.\n3. **OpenRefine**: For cleaning messy data.\n\n\n",
      "metadata": {}
    },
    {
      "cell_type": "markdown",
      "source": "**Objectives:**\n- Python\n- Java\n- R\n- Scala\n- SQL",
      "metadata": {}
    },
    {
      "cell_type": "markdown",
      "source": "Some of the popular languages that Data Scientists use are:\n1. Python\n2. Java\n3. R\n4. Scala\n5. SQL",
      "metadata": {}
    },
    {
      "cell_type": "markdown",
      "source": "Some of the commonly used libraries used by Data Scientists include:\n1. Pandas\n2. Numpy\n3. scikit-learn\n4. TensorFlow\n5. Matplotlib\n6. ggplot2",
      "metadata": {}
    },
    {
      "cell_type": "markdown",
      "source": "| Data Science Tools |\n| ------------------ |\n| Jupyter Notebook |\n| RStudio |\n| PyCharm |",
      "metadata": {}
    },
    {
      "cell_type": "markdown",
      "source": "### Below are a few examples of evaluating arithmetic expressions in Python\n",
      "metadata": {}
    },
    {
      "cell_type": "code",
      "source": "## This a simple arithmetic expression to mutiply then add integers\n(3*4)+5",
      "metadata": {
        "trusted": true
      },
      "outputs": [
        {
          "execution_count": 1,
          "output_type": "execute_result",
          "data": {
            "text/plain": "17"
          },
          "metadata": {}
        }
      ],
      "execution_count": 1
    },
    {
      "cell_type": "code",
      "source": "##  This will convert 200 minutes to hours by diving by 60\na = 200 / 60\nprint(a, \"Hours\")",
      "metadata": {
        "trusted": true
      },
      "outputs": [
        {
          "name": "stdout",
          "text": "3.3333333333333335 Hours\n",
          "output_type": "stream"
        }
      ],
      "execution_count": 4
    },
    {
      "cell_type": "markdown",
      "source": "## Author\nTenoyan",
      "metadata": {}
    }
  ]
}